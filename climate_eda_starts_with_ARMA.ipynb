{
 "cells": [
  {
   "cell_type": "code",
   "execution_count": 5,
   "id": "ad3391d3",
   "metadata": {},
   "outputs": [],
   "source": [
    "file_name = \"Global_annual_mean_temp.csv\""
   ]
  },
  {
   "cell_type": "code",
   "execution_count": 6,
   "id": "37eba779",
   "metadata": {},
   "outputs": [],
   "source": [
    "import pandas as pd\n",
    "temperature = pd.read_csv(file_name)"
   ]
  },
  {
   "cell_type": "code",
   "execution_count": 7,
   "id": "99cbcbd3",
   "metadata": {},
   "outputs": [
    {
     "data": {
      "text/plain": [
       "(142, 3)"
      ]
     },
     "execution_count": 7,
     "metadata": {},
     "output_type": "execute_result"
    }
   ],
   "source": [
    "temperature.shape"
   ]
  },
  {
   "cell_type": "code",
   "execution_count": 8,
   "id": "c5abbaa1",
   "metadata": {},
   "outputs": [
    {
     "data": {
      "text/plain": [
       "Year            0\n",
       "No_Smoothing    0\n",
       "Lowess(5)       0\n",
       "dtype: int64"
      ]
     },
     "execution_count": 8,
     "metadata": {},
     "output_type": "execute_result"
    }
   ],
   "source": [
    "temperature.isnull().sum()"
   ]
  },
  {
   "cell_type": "code",
   "execution_count": 9,
   "id": "991a9ce2",
   "metadata": {},
   "outputs": [
    {
     "data": {
      "text/html": [
       "<div>\n",
       "<style scoped>\n",
       "    .dataframe tbody tr th:only-of-type {\n",
       "        vertical-align: middle;\n",
       "    }\n",
       "\n",
       "    .dataframe tbody tr th {\n",
       "        vertical-align: top;\n",
       "    }\n",
       "\n",
       "    .dataframe thead th {\n",
       "        text-align: right;\n",
       "    }\n",
       "</style>\n",
       "<table border=\"1\" class=\"dataframe\">\n",
       "  <thead>\n",
       "    <tr style=\"text-align: right;\">\n",
       "      <th></th>\n",
       "      <th>Year</th>\n",
       "      <th>No_Smoothing</th>\n",
       "      <th>Lowess(5)</th>\n",
       "    </tr>\n",
       "  </thead>\n",
       "  <tbody>\n",
       "    <tr>\n",
       "      <th>count</th>\n",
       "      <td>142.000000</td>\n",
       "      <td>142.000000</td>\n",
       "      <td>142.000000</td>\n",
       "    </tr>\n",
       "    <tr>\n",
       "      <th>mean</th>\n",
       "      <td>1950.500000</td>\n",
       "      <td>0.053944</td>\n",
       "      <td>0.054014</td>\n",
       "    </tr>\n",
       "    <tr>\n",
       "      <th>std</th>\n",
       "      <td>41.135953</td>\n",
       "      <td>0.362540</td>\n",
       "      <td>0.350972</td>\n",
       "    </tr>\n",
       "    <tr>\n",
       "      <th>min</th>\n",
       "      <td>1880.000000</td>\n",
       "      <td>-0.480000</td>\n",
       "      <td>-0.410000</td>\n",
       "    </tr>\n",
       "    <tr>\n",
       "      <th>25%</th>\n",
       "      <td>1915.250000</td>\n",
       "      <td>-0.200000</td>\n",
       "      <td>-0.227500</td>\n",
       "    </tr>\n",
       "    <tr>\n",
       "      <th>50%</th>\n",
       "      <td>1950.500000</td>\n",
       "      <td>-0.065000</td>\n",
       "      <td>-0.040000</td>\n",
       "    </tr>\n",
       "    <tr>\n",
       "      <th>75%</th>\n",
       "      <td>1985.750000</td>\n",
       "      <td>0.252500</td>\n",
       "      <td>0.235000</td>\n",
       "    </tr>\n",
       "    <tr>\n",
       "      <th>max</th>\n",
       "      <td>2021.000000</td>\n",
       "      <td>1.020000</td>\n",
       "      <td>0.940000</td>\n",
       "    </tr>\n",
       "  </tbody>\n",
       "</table>\n",
       "</div>"
      ],
      "text/plain": [
       "              Year  No_Smoothing   Lowess(5)\n",
       "count   142.000000    142.000000  142.000000\n",
       "mean   1950.500000      0.053944    0.054014\n",
       "std      41.135953      0.362540    0.350972\n",
       "min    1880.000000     -0.480000   -0.410000\n",
       "25%    1915.250000     -0.200000   -0.227500\n",
       "50%    1950.500000     -0.065000   -0.040000\n",
       "75%    1985.750000      0.252500    0.235000\n",
       "max    2021.000000      1.020000    0.940000"
      ]
     },
     "execution_count": 9,
     "metadata": {},
     "output_type": "execute_result"
    }
   ],
   "source": [
    "temperature.describe()"
   ]
  },
  {
   "cell_type": "code",
   "execution_count": 10,
   "id": "7453ec3e",
   "metadata": {},
   "outputs": [
    {
     "data": {
      "text/html": [
       "<div>\n",
       "<style scoped>\n",
       "    .dataframe tbody tr th:only-of-type {\n",
       "        vertical-align: middle;\n",
       "    }\n",
       "\n",
       "    .dataframe tbody tr th {\n",
       "        vertical-align: top;\n",
       "    }\n",
       "\n",
       "    .dataframe thead th {\n",
       "        text-align: right;\n",
       "    }\n",
       "</style>\n",
       "<table border=\"1\" class=\"dataframe\">\n",
       "  <thead>\n",
       "    <tr style=\"text-align: right;\">\n",
       "      <th></th>\n",
       "      <th>Year</th>\n",
       "      <th>No_Smoothing</th>\n",
       "      <th>Lowess(5)</th>\n",
       "    </tr>\n",
       "  </thead>\n",
       "  <tbody>\n",
       "    <tr>\n",
       "      <th>0</th>\n",
       "      <td>1880</td>\n",
       "      <td>-0.17</td>\n",
       "      <td>-0.10</td>\n",
       "    </tr>\n",
       "    <tr>\n",
       "      <th>1</th>\n",
       "      <td>1881</td>\n",
       "      <td>-0.09</td>\n",
       "      <td>-0.13</td>\n",
       "    </tr>\n",
       "  </tbody>\n",
       "</table>\n",
       "</div>"
      ],
      "text/plain": [
       "   Year  No_Smoothing  Lowess(5)\n",
       "0  1880         -0.17      -0.10\n",
       "1  1881         -0.09      -0.13"
      ]
     },
     "execution_count": 10,
     "metadata": {},
     "output_type": "execute_result"
    }
   ],
   "source": [
    "temperature.head(2)"
   ]
  },
  {
   "cell_type": "code",
   "execution_count": 11,
   "id": "a24c134d",
   "metadata": {},
   "outputs": [
    {
     "data": {
      "text/plain": [
       "<AxesSubplot:xlabel='Year', ylabel='No_Smoothing'>"
      ]
     },
     "execution_count": 11,
     "metadata": {},
     "output_type": "execute_result"
    },
    {
     "data": {
      "image/png": "[encoded data removed]",
      "text/plain": [
       "<Figure size 432x288 with 1 Axes>"
      ]
     },
     "metadata": {
      "needs_background": "light"
     },
     "output_type": "display_data"
    }
   ],
   "source": [
    "temperature.plot.scatter('Year', 'No_Smoothing')"
   ]
  },
  {
   "cell_type": "code",
   "execution_count": 12,
   "id": "eb666269",
   "metadata": {},
   "outputs": [
    {
     "data": {
      "text/plain": [
       "<AxesSubplot:xlabel='Year', ylabel='Lowess(5)'>"
      ]
     },
     "execution_count": 12,
     "metadata": {},
     "output_type": "execute_result"
    },
    {
     "data": {
      "image/png": "[encoded data removed]",
      "text/plain": [
       "<Figure size 432x288 with 1 Axes>"
      ]
     },
     "metadata": {
      "needs_background": "light"
     },
     "output_type": "display_data"
    }
   ],
   "source": [
    "temperature.plot.scatter('Year', 'Lowess(5)')"
   ]
  },
  {
   "cell_type": "code",
   "execution_count": 13,
   "id": "02f402cb",
   "metadata": {},
   "outputs": [],
   "source": [
    "# Upward moving trend \n",
    "# Data is in celcius"
   ]
  },
  {
   "cell_type": "code",
   "execution_count": 14,
   "id": "8dbe6af2",
   "metadata": {},
   "outputs": [],
   "source": [
    "# Goal of this notebook is to forecast the gloabal annual mean temerature for year 2021 and year 2022 till 2030.\n",
    "\n",
    "# I can take data till 2000 as training data and test on the rest."
   ]
  },
  {
   "cell_type": "code",
   "execution_count": 15,
   "id": "5413bd15",
   "metadata": {},
   "outputs": [],
   "source": [
    "# Forecasting================================================================================================================="
   ]
  },
  {
   "cell_type": "code",
   "execution_count": 16,
   "id": "e076b2d9",
   "metadata": {},
   "outputs": [],
   "source": [
    "# Referring: https://machinelearningmastery.com/time-series-forecasting-methods-in-python-cheat-sheet/"
   ]
  },
  {
   "cell_type": "code",
   "execution_count": 17,
   "id": "0194e1d8",
   "metadata": {},
   "outputs": [],
   "source": [
    "# 1. Autoregression: ------------------------------------------------------------------------------------------\n",
    "#Predict the next step in time series as a linear combination of the prior steps.\n",
    "# y(t) = m*y(t-1) + c, this is denoted as AR(1) a it uses only one step prior value to predict.\n",
    "# y(t) = m1*y(t-1) + m2*y(t-2) + c, this is denoted as AR(2) as it uses only 2 steps prior values to predict.\n",
    "# .... and so on"
   ]
  },
  {
   "cell_type": "code",
   "execution_count": 18,
   "id": "6f0b228a",
   "metadata": {},
   "outputs": [
    {
     "name": "stdout",
     "output_type": "stream",
     "text": [
      "Requirement already satisfied: statsmodels in /Library/Frameworks/Python.framework/Versions/3.7/lib/python3.7/site-packages (0.13.1)\n",
      "Requirement already satisfied: scipy>=1.3 in /Library/Frameworks/Python.framework/Versions/3.7/lib/python3.7/site-packages (from statsmodels) (1.4.1)\n",
      "Requirement already satisfied: numpy>=1.17 in /Library/Frameworks/Python.framework/Versions/3.7/lib/python3.7/site-packages (from statsmodels) (1.18.0)\n",
      "Requirement already satisfied: patsy>=0.5.2 in /Library/Frameworks/Python.framework/Versions/3.7/lib/python3.7/site-packages (from statsmodels) (0.5.2)\n",
      "Requirement already satisfied: pandas>=0.25 in /Library/Frameworks/Python.framework/Versions/3.7/lib/python3.7/site-packages (from statsmodels) (1.1.1)\n",
      "Requirement already satisfied: pytz>=2017.2 in /Library/Frameworks/Python.framework/Versions/3.7/lib/python3.7/site-packages (from pandas>=0.25->statsmodels) (2021.1)\n",
      "Requirement already satisfied: python-dateutil>=2.7.3 in /Library/Frameworks/Python.framework/Versions/3.7/lib/python3.7/site-packages (from pandas>=0.25->statsmodels) (2.8.2)\n",
      "Requirement already satisfied: six in /Library/Frameworks/Python.framework/Versions/3.7/lib/python3.7/site-packages (from patsy>=0.5.2->statsmodels) (1.15.0)\n",
      "\u001b[33mWARNING: You are using pip version 21.1.3; however, version 22.3.1 is available.\n",
      "You should consider upgrading via the '/Library/Frameworks/Python.framework/Versions/3.7/bin/python3 -m pip install --upgrade pip' command.\u001b[0m\n"
     ]
    }
   ],
   "source": [
    "!pip install statsmodels"
   ]
  },
  {
   "cell_type": "code",
   "execution_count": 19,
   "id": "b67aa9cb",
   "metadata": {},
   "outputs": [],
   "source": [
    "# AR example\n",
    "# statsmodels.tsa contains time series analysis statistics models\n",
    "from statsmodels.tsa.ar_model import AutoReg\n",
    "from random import random\n",
    "\n",
    "# fit model\n",
    "train_data = temperature.loc[:temperature.shape[0]-10,'Lowess(5)']\n",
    "test_data = temperature.loc[temperature.shape[0]-10:,'Lowess(5)']\n",
    "model = AutoReg(train_data, lags=1)\n",
    "model_fit = model.fit()\n",
    "# make prediction\n",
    "yhat = model_fit.predict(len(train_data), len(train_data) + len(test_data)-1)\n",
    "#print(yhat)"
   ]
  },
  {
   "cell_type": "code",
   "execution_count": 20,
   "id": "78e52a31",
   "metadata": {},
   "outputs": [
    {
     "data": {
      "image/png": "[encoded data removed]",
      "text/plain": [
       "<Figure size 432x288 with 1 Axes>"
      ]
     },
     "metadata": {
      "needs_background": "light"
     },
     "output_type": "display_data"
    }
   ],
   "source": [
    "import matplotlib.pyplot as plt\n",
    "plt.plot(range(10), yhat)\n",
    "plt.plot(range(10), test_data)\n",
    "plt.xlabel(\"test year\")\n",
    "plt.ylabel(\"temperature\")\n",
    "plt.legend([\"forecast\", \"actual\"], loc=\"lower right\")\n",
    "plt.show()"
   ]
  },
  {
   "cell_type": "code",
   "execution_count": 21,
   "id": "dc7e2307",
   "metadata": {},
   "outputs": [],
   "source": [
    "# Implement Autoregression in excel : \n",
    "# https://www.bing.com/videos/search?q=perform+autoregression+model+in+excel&view=detail&mid=3AB21B7C9DD933C6513D3AB21B7C9DD933C6513D&FORM=VIRE"
   ]
  },
  {
   "cell_type": "code",
   "execution_count": 22,
   "id": "8c27c4b7",
   "metadata": {},
   "outputs": [],
   "source": [
    "# 2. Moving Average"
   ]
  },
  {
   "cell_type": "code",
   "execution_count": 23,
   "id": "67bfc6dd",
   "metadata": {},
   "outputs": [],
   "source": [
    "# 3. ARMA \n",
    "# The Autoregressive Moving Average (ARMA) method models the next step in the sequence as a linear function \n",
    "# of the observations and residual errors at prior time steps."
   ]
  },
  {
   "cell_type": "code",
   "execution_count": 24,
   "id": "2e0994b4",
   "metadata": {},
   "outputs": [],
   "source": [
    "from statsmodels.tsa.arima.model import ARIMA\n"
   ]
  },
  {
   "cell_type": "code",
   "execution_count": 35,
   "id": "500c8cbf",
   "metadata": {},
   "outputs": [
    {
     "name": "stdout",
     "output_type": "stream",
     "text": [
      "133    0.704641\n",
      "134    0.696639\n",
      "135    0.680804\n",
      "136    0.664808\n",
      "137    0.649237\n",
      "138    0.634123\n",
      "139    0.619455\n",
      "140    0.605221\n",
      "141    0.591409\n",
      "142    0.578004\n",
      "Name: predicted_mean, dtype: float64\n"
     ]
    },
    {
     "name": "stderr",
     "output_type": "stream",
     "text": [
      "/Library/Frameworks/Python.framework/Versions/3.7/lib/python3.7/site-packages/statsmodels/tsa/statespace/sarimax.py:966: UserWarning: Non-stationary starting autoregressive parameters found. Using zeros as starting parameters.\n",
      "  warn('Non-stationary starting autoregressive parameters'\n",
      "/Library/Frameworks/Python.framework/Versions/3.7/lib/python3.7/site-packages/statsmodels/base/model.py:606: ConvergenceWarning: Maximum Likelihood optimization failed to converge. Check mle_retvals\n",
      "  ConvergenceWarning)\n"
     ]
    }
   ],
   "source": [
    "#order tuple, optional\n",
    "#The (p,d,q) order of the model for the autoregressive, differences, and moving average components. \n",
    "# ARMA example\n",
    "\n",
    "model = ARIMA(train_data, order=(2, 0, 2))\n",
    "model_fit = model.fit()\n",
    "# make prediction\n",
    "yhat = model_fit.predict(len(train_data), len(train_data) + len(test_data)-1)\n",
    "print(yhat)"
   ]
  },
  {
   "cell_type": "code",
   "execution_count": 36,
   "id": "f85fd2ad",
   "metadata": {},
   "outputs": [
    {
     "data": {
      "image/png": "[encoded data removed]",
      "text/plain": [
       "<Figure size 432x288 with 1 Axes>"
      ]
     },
     "metadata": {
      "needs_background": "light"
     },
     "output_type": "display_data"
    }
   ],
   "source": [
    "import matplotlib.pyplot as plt\n",
    "plt.plot(range(10), yhat)\n",
    "plt.plot(range(10), test_data)\n",
    "plt.xlabel(\"test year\")\n",
    "plt.ylabel(\"temperature\")\n",
    "plt.legend([\"forecast\", \"actual\"], loc=\"lower right\")\n",
    "plt.show()"
   ]
  },
  {
   "cell_type": "code",
   "execution_count": null,
   "id": "53b48e91",
   "metadata": {},
   "outputs": [],
   "source": [
    "# ARIMA\n",
    "\n",
    "# The Autoregressive Integrated Moving Average (ARIMA) method models the next step in the sequence \n",
    "# as a linear function of the differenced observations and residual errors at prior time steps.\n",
    "\n",
    "#It combines both Autoregression (AR) and Moving Average (MA) models as well as a differencing \n",
    "# pre-processing step of the sequence to make the sequence stationary, called integration (I).\n",
    "\n",
    "#The notation for the model involves specifying the order for the AR(p), I(d), and MA(q) models\n",
    "# as parameters to an ARIMA function, e.g. ARIMA(p, d, q). An ARIMA model can also be used to develop AR, MA, and ARMA models."
   ]
  },
  {
   "cell_type": "code",
   "execution_count": 39,
   "id": "3bd105fa",
   "metadata": {},
   "outputs": [
    {
     "name": "stdout",
     "output_type": "stream",
     "text": [
      "133    0.715223\n",
      "134    0.734495\n",
      "135    0.749220\n",
      "136    0.760470\n",
      "137    0.769065\n",
      "138    0.775633\n",
      "139    0.780651\n",
      "140    0.784484\n",
      "141    0.787414\n",
      "142    0.789652\n",
      "Name: predicted_mean, dtype: float64\n"
     ]
    }
   ],
   "source": [
    "# ARIMA example\n",
    "\n",
    "# fit model\n",
    "model = ARIMA(train_data, order=(1, 1, 1))\n",
    "model_fit = model.fit()\n",
    "# make prediction\n",
    "yhat = model_fit.predict(len(train_data), len(train_data) + len(test_data)-1, typ='levels')\n",
    "print(yhat)"
   ]
  },
  {
   "cell_type": "code",
   "execution_count": 40,
   "id": "724ffff9",
   "metadata": {},
   "outputs": [
    {
     "data": {
      "image/png": "[encoded data removed]",
      "text/plain": [
       "<Figure size 432x288 with 1 Axes>"
      ]
     },
     "metadata": {
      "needs_background": "light"
     },
     "output_type": "display_data"
    }
   ],
   "source": [
    "import matplotlib.pyplot as plt\n",
    "plt.plot(range(10), yhat)\n",
    "plt.plot(range(10), test_data)\n",
    "plt.xlabel(\"test year\")\n",
    "plt.ylabel(\"temperature\")\n",
    "plt.legend([\"forecast\", \"actual\"], loc=\"lower right\")\n",
    "plt.show()"
   ]
  },
  {
   "cell_type": "code",
   "execution_count": null,
   "id": "2cad2567",
   "metadata": {},
   "outputs": [],
   "source": [
    "# Seasonal Autoregressive Integrated Moving Average\n",
    "#(SARIMA) method models the next step in the sequence as a linear function \n",
    "# of the differenced observations, errors, differenced seasonal observations, \n",
    "# and seasonal errors at prior time steps.\n",
    "\n",
    "#It combines the ARIMA model with the ability to perform the same autoregression, \n",
    "# differencing, and moving average modeling at the seasonal level.\n",
    "\n",
    "#The notation for the model involves specifying the order for the AR(p), I(d), and MA(q) models as parameters \n",
    "# to an ARIMA function and AR(P), I(D), MA(Q) and m parameters at the seasonal level, e.g. \n",
    "# SARIMA(p, d, q)(P, D, Q)m where “m” is the number of time steps in each season (the seasonal period). A SARIMA model can be used to develop AR, MA, ARMA and ARIMA models.\n",
    "\n",
    "#The method is suitable for univariate time series with trend and/or seasonal components.\n"
   ]
  },
  {
   "cell_type": "code",
   "execution_count": 41,
   "id": "e57bd1f3",
   "metadata": {},
   "outputs": [
    {
     "name": "stdout",
     "output_type": "stream",
     "text": [
      "133    0.715223\n",
      "134    0.734495\n",
      "135    0.749220\n",
      "136    0.760470\n",
      "137    0.769065\n",
      "138    0.775633\n",
      "139    0.780651\n",
      "140    0.784484\n",
      "141    0.787414\n",
      "142    0.789652\n",
      "Name: predicted_mean, dtype: float64\n"
     ]
    }
   ],
   "source": [
    "# SARIMA example\n",
    "from statsmodels.tsa.statespace.sarimax import SARIMAX\n",
    "from random import random\n",
    "# contrived dataset\n",
    "\n",
    "# fit model\n",
    "model = SARIMAX(train_data, order=(1, 1, 1), seasonal_order=(0, 0, 0, 0))\n",
    "model_fit = model.fit(disp=False)\n",
    "# make prediction\n",
    "yhat = model_fit.predict(len(train_data), len(train_data) + len(test_data)-1)\n",
    "print(yhat)"
   ]
  },
  {
   "cell_type": "code",
   "execution_count": 42,
   "id": "23fde5ab",
   "metadata": {},
   "outputs": [
    {
     "data": {
      "image/png": "[encoded data removed]",
      "text/plain": [
       "<Figure size 432x288 with 1 Axes>"
      ]
     },
     "metadata": {
      "needs_background": "light"
     },
     "output_type": "display_data"
    }
   ],
   "source": [
    "import matplotlib.pyplot as plt\n",
    "plt.plot(range(10), yhat)\n",
    "plt.plot(range(10), test_data)\n",
    "plt.xlabel(\"test year\")\n",
    "plt.ylabel(\"temperature\")\n",
    "plt.legend([\"forecast\", \"actual\"], loc=\"lower right\")\n",
    "plt.show()"
   ]
  },
  {
   "cell_type": "markdown",
   "id": "29c89c34",
   "metadata": {},
   "source": [
    "###### Seasonal Autoregressive Integrated Moving-Average with Exogenous Regressors (SARIMAX)\n",
    "he Seasonal Autoregressive Integrated Moving-Average with Exogenous Regressors (SARIMAX) \n",
    "is an extension of the SARIMA model that also includes the modeling of exogenous variables.\n",
    "\n",
    "Exogenous variables are also called covariates and can be thought of as parallel input sequences that have observations at the same time steps as the original series. The primary series may be referred to as endogenous data to contrast it from the exogenous sequence(s). The observations for exogenous variables are included in the model directly at each time step and are not modeled in the same way as the primary \n",
    "endogenous sequence (e.g. as an AR, MA, etc. process).\n",
    "\n",
    "The SARIMAX method can also be used to model the subsumed models with exogenous variables, such as ARX, MAX, ARMAX, and ARIMAX.\n",
    "\n",
    "The method is suitable for univariate time series with trend and/or seasonal components and exogenous variables."
   ]
  },
  {
   "cell_type": "code",
   "execution_count": 49,
   "id": "e1ff70a9",
   "metadata": {},
   "outputs": [
    {
     "data": {
      "text/plain": [
       "142"
      ]
     },
     "execution_count": 49,
     "metadata": {},
     "output_type": "execute_result"
    }
   ],
   "source": [
    "len(train_data) + len(test_data)-1"
   ]
  },
  {
   "cell_type": "code",
   "execution_count": 50,
   "id": "199ebbc8",
   "metadata": {},
   "outputs": [
    {
     "name": "stdout",
     "output_type": "stream",
     "text": [
      "133    0.605646\n",
      "134    0.627237\n",
      "135    0.645140\n",
      "136    0.658576\n",
      "137    0.671272\n",
      "138    0.681540\n",
      "139    0.690124\n",
      "140    0.696262\n",
      "141    0.701587\n",
      "142    0.708635\n",
      "Name: predicted_mean, dtype: float64\n"
     ]
    }
   ],
   "source": [
    "# SARIMAX example\n",
    "\n",
    "# exogenous data\n",
    "\n",
    "data2 = [x + random() for x in range(101, 101+train_data.shape[0])]\n",
    "\n",
    "# fit model\n",
    "model = SARIMAX(train_data, exog=data2, order=(1, 1, 1), seasonal_order=(0, 0, 0, 0))\n",
    "model_fit = model.fit(disp=False)\n",
    "# make prediction\n",
    "exog2 = [x + random() for x in range(200, 200+test_data.shape[0])]\n",
    "yhat = model_fit.predict(len(train_data), len(train_data) + len(test_data)-1, exog=[exog2])\n",
    "print(yhat)"
   ]
  },
  {
   "cell_type": "code",
   "execution_count": 51,
   "id": "e5b05328",
   "metadata": {},
   "outputs": [
    {
     "data": {
      "image/png": "[encoded data removed]",
      "text/plain": [
       "<Figure size 432x288 with 1 Axes>"
      ]
     },
     "metadata": {
      "needs_background": "light"
     },
     "output_type": "display_data"
    }
   ],
   "source": [
    "import matplotlib.pyplot as plt\n",
    "plt.plot(range(10), yhat)\n",
    "plt.plot(range(10), test_data)\n",
    "plt.xlabel(\"test year\")\n",
    "plt.ylabel(\"temperature\")\n",
    "plt.legend([\"forecast\", \"actual\"], loc=\"lower right\")\n",
    "plt.show()"
   ]
  },
  {
   "cell_type": "markdown",
   "id": "3cb1d3ce",
   "metadata": {},
   "source": [
    "### Vector Autoregression (VAR)\n",
    "The Vector Autoregression (VAR) method models the next step in each time series using an AR model. It is the generalization of AR to multiple parallel time series, e.g. multivariate time series.\n",
    "\n",
    "The notation for the model involves specifying the order for the AR(p) model as parameters to a VAR function, e.g. VAR(p).\n",
    "\n",
    "The method is suitable for multivariate time series without trend and seasonal components.\n",
    "\n",
    "A Multivariate Time Series consist of more than one time-dependent variable and each variable depends not only on its past values but also has some dependency on other variables.\n",
    "\n",
    "To deal with MTS, one of the most popular methods is Vector Auto Regressive Moving Average models (VARMA) that is a vector form of autoregressive integrated moving average (ARIMA) that can be used to examine the relationships among several variables in multivariate time series analysis.\n",
    "\n",
    "In hana-ml, the function of VARMA is called VectorARIMA which supports a series of models, e.g. pure VAR, pure VMA, VARX(VAR with exogenous variables), sVARMA (seasonal VARMA), VARMAX. Similar to ARIMA, building a VectorARIMA also need to select the propriate order of Auto Regressive(AR) p, order of Moving Average(MA) q, degree of differencing d. If the seasonality exists in the time series, seasonal related parameters are also needs to be decided, i.e. seasonal period s, Order of vector seasonal AR P, order of vector seasonal MA Q, Degree of seasonal differencing D."
   ]
  },
  {
   "cell_type": "code",
   "execution_count": 93,
   "id": "fa6f00c6",
   "metadata": {},
   "outputs": [
    {
     "name": "stderr",
     "output_type": "stream",
     "text": [
      "/Library/Frameworks/Python.framework/Versions/3.7/lib/python3.7/site-packages/statsmodels/tsa/statespace/varmax.py:163: EstimationWarning: Estimation of VARMA(p,q) models is not generically robust, due especially to identification issues.\n",
      "  EstimationWarning)\n"
     ]
    },
    {
     "name": "stdout",
     "output_type": "stream",
     "text": [
      "[[0.4650373  1.04115913]]\n"
     ]
    },
    {
     "name": "stderr",
     "output_type": "stream",
     "text": [
      "/Library/Frameworks/Python.framework/Versions/3.7/lib/python3.7/site-packages/statsmodels/base/model.py:606: ConvergenceWarning: Maximum Likelihood optimization failed to converge. Check mle_retvals\n",
      "  ConvergenceWarning)\n"
     ]
    }
   ],
   "source": [
    "# VARMA example\n",
    "from statsmodels.tsa.statespace.varmax import VARMAX\n",
    "from random import random\n",
    "# contrived dataset with dependency\n",
    "data = list()\n",
    "for i in range(100):\n",
    "    v1 = random()\n",
    "    v2 = v1 + random()\n",
    "    row = [v1, v2]\n",
    "    data.append(row)\n",
    "# fit model\n",
    "model = VARMAX(data, order=(1, 1))\n",
    "model_fit = model.fit(disp=False)\n",
    "# make prediction\n",
    "yhat = model_fit.forecast()\n",
    "print(yhat)"
   ]
  },
  {
   "cell_type": "markdown",
   "id": "c871ba5b",
   "metadata": {},
   "source": [
    "### Simple Exponential Smoothing (SES)\n",
    "\n",
    "The Simple Exponential Smoothing (SES) method models the next time step as an exponentially weighted linear function of observations at prior time steps.\n",
    "\n",
    "The method is suitable for univariate time series without trend and seasonal components."
   ]
  },
  {
   "cell_type": "code",
   "execution_count": 95,
   "id": "0fbefefa",
   "metadata": {},
   "outputs": [
    {
     "name": "stdout",
     "output_type": "stream",
     "text": [
      "[99.0383201]\n"
     ]
    }
   ],
   "source": [
    "# SES example\n",
    "from statsmodels.tsa.holtwinters import SimpleExpSmoothing\n",
    "from random import random\n",
    "# contrived dataset\n",
    "data = [x + random() for x in range(1, 100)]\n",
    "# fit model\n",
    "model = SimpleExpSmoothing(data)\n",
    "model_fit = model.fit()\n",
    "# make prediction\n",
    "yhat = model_fit.predict(len(data), len(data))\n",
    "print(yhat)"
   ]
  },
  {
   "cell_type": "markdown",
   "id": "51fc8dcd",
   "metadata": {},
   "source": [
    "### Holt Winter’s Exponential Smoothing (HWES)\n",
    "The Holt Winter’s Exponential Smoothing (HWES) also called the Triple Exponential Smoothing method models the next time step as an exponentially weighted linear function of observations at prior time steps, taking trends and seasonality into account.\n",
    "\n",
    "The method is suitable for univariate time series with trend and/or seasonal components."
   ]
  },
  {
   "cell_type": "code",
   "execution_count": 96,
   "id": "7e20a702",
   "metadata": {},
   "outputs": [
    {
     "name": "stdout",
     "output_type": "stream",
     "text": [
      "[99.20370252]\n"
     ]
    }
   ],
   "source": [
    "# HWES example\n",
    "from statsmodels.tsa.holtwinters import ExponentialSmoothing\n",
    "from random import random\n",
    "# contrived dataset\n",
    "data = [x + random() for x in range(1, 100)]\n",
    "# fit model\n",
    "model = ExponentialSmoothing(data)\n",
    "model_fit = model.fit()\n",
    "# make prediction\n",
    "yhat = model_fit.predict(len(data), len(data))\n",
    "print(yhat)"
   ]
  },
  {
   "cell_type": "code",
   "execution_count": null,
   "id": "b50a92db",
   "metadata": {},
   "outputs": [],
   "source": []
  }
 ],
 "metadata": {
  "kernelspec": {
   "display_name": "Python 3 (ipykernel)",
   "language": "python",
   "name": "python3"
  },
  "language_info": {
   "codemirror_mode": {
    "name": "ipython",
    "version": 3
   },
   "file_extension": ".py",
   "mimetype": "text/x-python",
   "name": "python",
   "nbconvert_exporter": "python",
   "pygments_lexer": "ipython3",
   "version": "3.7.3"
  }
 },
 "nbformat": 4,
 "nbformat_minor": 5
}

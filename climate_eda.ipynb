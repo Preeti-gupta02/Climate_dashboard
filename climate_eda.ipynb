{
 "cells": [
  {
   "cell_type": "code",
   "execution_count": 53,
   "id": "ad3391d3",
   "metadata": {},
   "outputs": [],
   "source": [
    "file_name = \"Global_annual_mean_temp.csv\""
   ]
  },
  {
   "cell_type": "code",
   "execution_count": 54,
   "id": "37eba779",
   "metadata": {},
   "outputs": [],
   "source": [
    "import pandas as pd\n",
    "temperature = pd.read_csv(file_name)"
   ]
  },
  {
   "cell_type": "code",
   "execution_count": 55,
   "id": "99cbcbd3",
   "metadata": {},
   "outputs": [
    {
     "data": {
      "text/plain": [
       "(142, 3)"
      ]
     },
     "execution_count": 55,
     "metadata": {},
     "output_type": "execute_result"
    }
   ],
   "source": [
    "temperature.shape"
   ]
  },
  {
   "cell_type": "code",
   "execution_count": 56,
   "id": "c5abbaa1",
   "metadata": {},
   "outputs": [
    {
     "data": {
      "text/plain": [
       "Year            0\n",
       "No_Smoothing    0\n",
       "Lowess(5)       0\n",
       "dtype: int64"
      ]
     },
     "execution_count": 56,
     "metadata": {},
     "output_type": "execute_result"
    }
   ],
   "source": [
    "temperature.isnull().sum()"
   ]
  },
  {
   "cell_type": "code",
   "execution_count": 57,
   "id": "991a9ce2",
   "metadata": {},
   "outputs": [
    {
     "data": {
      "text/html": [
       "<div>\n",
       "<style scoped>\n",
       "    .dataframe tbody tr th:only-of-type {\n",
       "        vertical-align: middle;\n",
       "    }\n",
       "\n",
       "    .dataframe tbody tr th {\n",
       "        vertical-align: top;\n",
       "    }\n",
       "\n",
       "    .dataframe thead th {\n",
       "        text-align: right;\n",
       "    }\n",
       "</style>\n",
       "<table border=\"1\" class=\"dataframe\">\n",
       "  <thead>\n",
       "    <tr style=\"text-align: right;\">\n",
       "      <th></th>\n",
       "      <th>Year</th>\n",
       "      <th>No_Smoothing</th>\n",
       "      <th>Lowess(5)</th>\n",
       "    </tr>\n",
       "  </thead>\n",
       "  <tbody>\n",
       "    <tr>\n",
       "      <th>count</th>\n",
       "      <td>142.000000</td>\n",
       "      <td>142.000000</td>\n",
       "      <td>142.000000</td>\n",
       "    </tr>\n",
       "    <tr>\n",
       "      <th>mean</th>\n",
       "      <td>1950.500000</td>\n",
       "      <td>0.053944</td>\n",
       "      <td>0.054014</td>\n",
       "    </tr>\n",
       "    <tr>\n",
       "      <th>std</th>\n",
       "      <td>41.135953</td>\n",
       "      <td>0.362540</td>\n",
       "      <td>0.350972</td>\n",
       "    </tr>\n",
       "    <tr>\n",
       "      <th>min</th>\n",
       "      <td>1880.000000</td>\n",
       "      <td>-0.480000</td>\n",
       "      <td>-0.410000</td>\n",
       "    </tr>\n",
       "    <tr>\n",
       "      <th>25%</th>\n",
       "      <td>1915.250000</td>\n",
       "      <td>-0.200000</td>\n",
       "      <td>-0.227500</td>\n",
       "    </tr>\n",
       "    <tr>\n",
       "      <th>50%</th>\n",
       "      <td>1950.500000</td>\n",
       "      <td>-0.065000</td>\n",
       "      <td>-0.040000</td>\n",
       "    </tr>\n",
       "    <tr>\n",
       "      <th>75%</th>\n",
       "      <td>1985.750000</td>\n",
       "      <td>0.252500</td>\n",
       "      <td>0.235000</td>\n",
       "    </tr>\n",
       "    <tr>\n",
       "      <th>max</th>\n",
       "      <td>2021.000000</td>\n",
       "      <td>1.020000</td>\n",
       "      <td>0.940000</td>\n",
       "    </tr>\n",
       "  </tbody>\n",
       "</table>\n",
       "</div>"
      ],
      "text/plain": [
       "              Year  No_Smoothing   Lowess(5)\n",
       "count   142.000000    142.000000  142.000000\n",
       "mean   1950.500000      0.053944    0.054014\n",
       "std      41.135953      0.362540    0.350972\n",
       "min    1880.000000     -0.480000   -0.410000\n",
       "25%    1915.250000     -0.200000   -0.227500\n",
       "50%    1950.500000     -0.065000   -0.040000\n",
       "75%    1985.750000      0.252500    0.235000\n",
       "max    2021.000000      1.020000    0.940000"
      ]
     },
     "execution_count": 57,
     "metadata": {},
     "output_type": "execute_result"
    }
   ],
   "source": [
    "temperature.describe()"
   ]
  },
  {
   "cell_type": "code",
   "execution_count": 58,
   "id": "7453ec3e",
   "metadata": {},
   "outputs": [
    {
     "data": {
      "text/html": [
       "<div>\n",
       "<style scoped>\n",
       "    .dataframe tbody tr th:only-of-type {\n",
       "        vertical-align: middle;\n",
       "    }\n",
       "\n",
       "    .dataframe tbody tr th {\n",
       "        vertical-align: top;\n",
       "    }\n",
       "\n",
       "    .dataframe thead th {\n",
       "        text-align: right;\n",
       "    }\n",
       "</style>\n",
       "<table border=\"1\" class=\"dataframe\">\n",
       "  <thead>\n",
       "    <tr style=\"text-align: right;\">\n",
       "      <th></th>\n",
       "      <th>Year</th>\n",
       "      <th>No_Smoothing</th>\n",
       "      <th>Lowess(5)</th>\n",
       "    </tr>\n",
       "  </thead>\n",
       "  <tbody>\n",
       "    <tr>\n",
       "      <th>0</th>\n",
       "      <td>1880</td>\n",
       "      <td>-0.17</td>\n",
       "      <td>-0.10</td>\n",
       "    </tr>\n",
       "    <tr>\n",
       "      <th>1</th>\n",
       "      <td>1881</td>\n",
       "      <td>-0.09</td>\n",
       "      <td>-0.13</td>\n",
       "    </tr>\n",
       "  </tbody>\n",
       "</table>\n",
       "</div>"
      ],
      "text/plain": [
       "   Year  No_Smoothing  Lowess(5)\n",
       "0  1880         -0.17      -0.10\n",
       "1  1881         -0.09      -0.13"
      ]
     },
     "execution_count": 58,
     "metadata": {},
     "output_type": "execute_result"
    }
   ],
   "source": [
    "temperature.head(2)"
   ]
  },
  {
   "cell_type": "code",
   "execution_count": 59,
   "id": "a24c134d",
   "metadata": {},
   "outputs": [
    {
     "data": {
      "text/plain": [
       "<AxesSubplot:xlabel='Year', ylabel='No_Smoothing'>"
      ]
     },
     "execution_count": 59,
     "metadata": {},
     "output_type": "execute_result"
    },
    {
     "data": {
      "image/png": "[encoded data removed]",
      "text/plain": [
       "<Figure size 432x288 with 1 Axes>"
      ]
     },
     "metadata": {
      "needs_background": "light"
     },
     "output_type": "display_data"
    }
   ],
   "source": [
    "temperature.plot.scatter('Year', 'No_Smoothing')"
   ]
  },
  {
   "cell_type": "code",
   "execution_count": 60,
   "id": "eb666269",
   "metadata": {},
   "outputs": [
    {
     "data": {
      "text/plain": [
       "<AxesSubplot:xlabel='Year', ylabel='Lowess(5)'>"
      ]
     },
     "execution_count": 60,
     "metadata": {},
     "output_type": "execute_result"
    },
    {
     "data": {
      "image/png": "[encoded data removed]",
      "text/plain": [
       "<Figure size 432x288 with 1 Axes>"
      ]
     },
     "metadata": {
      "needs_background": "light"
     },
     "output_type": "display_data"
    }
   ],
   "source": [
    "temperature.plot.scatter('Year', 'Lowess(5)')"
   ]
  },
  {
   "cell_type": "code",
   "execution_count": 61,
   "id": "02f402cb",
   "metadata": {},
   "outputs": [],
   "source": [
    "# Upward moving trend \n",
    "# Data is in celcius"
   ]
  },
  {
   "cell_type": "code",
   "execution_count": 62,
   "id": "8dbe6af2",
   "metadata": {},
   "outputs": [],
   "source": [
    "# Goal of this notebook is to forecast the gloabal annual mean temerature for year 2021 and year 2022 till 2030.\n",
    "\n",
    "# I can take data till 2000 as training data and test on the rest."
   ]
  },
  {
   "cell_type": "code",
   "execution_count": 63,
   "id": "5413bd15",
   "metadata": {},
   "outputs": [],
   "source": [
    "# Forecasting================================================================================================================="
   ]
  },
  {
   "cell_type": "code",
   "execution_count": 64,
   "id": "e076b2d9",
   "metadata": {},
   "outputs": [],
   "source": [
    "# Referring: https://machinelearningmastery.com/time-series-forecasting-methods-in-python-cheat-sheet/"
   ]
  },
  {
   "cell_type": "code",
   "execution_count": 65,
   "id": "0194e1d8",
   "metadata": {},
   "outputs": [],
   "source": [
    "# 1. Autoregression: ------------------------------------------------------------------------------------------\n",
    "#Predict the next step in time series as a linear combination of the prior steps.\n",
    "# y(t) = m*y(t-1) + c, this is denoted as AR(1) a it uses only one step prior value to predict.\n",
    "# y(t) = m1*y(t-1) + m2*y(t-2) + c, this is denoted as AR(2) as it uses only 2 steps prior values to predict.\n",
    "# .... and so on"
   ]
  },
  {
   "cell_type": "code",
   "execution_count": 66,
   "id": "6f0b228a",
   "metadata": {},
   "outputs": [
    {
     "name": "stdout",
     "output_type": "stream",
     "text": [
      "Requirement already satisfied: statsmodels in c:\\users\\2372332\\miniconda3\\lib\\site-packages (0.13.5)\n",
      "Requirement already satisfied: pandas>=0.25 in c:\\users\\2372332\\miniconda3\\lib\\site-packages (from statsmodels) (1.4.3)\n",
      "Requirement already satisfied: scipy>=1.3 in c:\\users\\2372332\\miniconda3\\lib\\site-packages (from statsmodels) (1.9.1)\n",
      "Requirement already satisfied: packaging>=21.3 in c:\\users\\2372332\\miniconda3\\lib\\site-packages (from statsmodels) (21.3)\n",
      "Requirement already satisfied: numpy>=1.17 in c:\\users\\2372332\\miniconda3\\lib\\site-packages (from statsmodels) (1.23.0)\n",
      "Requirement already satisfied: patsy>=0.5.2 in c:\\users\\2372332\\miniconda3\\lib\\site-packages (from statsmodels) (0.5.3)\n",
      "Requirement already satisfied: pyparsing!=3.0.5,>=2.0.2 in c:\\users\\2372332\\miniconda3\\lib\\site-packages (from packaging>=21.3->statsmodels) (3.0.9)\n",
      "Requirement already satisfied: python-dateutil>=2.8.1 in c:\\users\\2372332\\miniconda3\\lib\\site-packages (from pandas>=0.25->statsmodels) (2.8.2)\n",
      "Requirement already satisfied: pytz>=2020.1 in c:\\users\\2372332\\miniconda3\\lib\\site-packages (from pandas>=0.25->statsmodels) (2022.1)\n",
      "Requirement already satisfied: six in c:\\users\\2372332\\miniconda3\\lib\\site-packages (from patsy>=0.5.2->statsmodels) (1.16.0)\n"
     ]
    }
   ],
   "source": [
    "!pip install statsmodels"
   ]
  },
  {
   "cell_type": "code",
   "execution_count": 67,
   "id": "b67aa9cb",
   "metadata": {},
   "outputs": [],
   "source": [
    "# AR example\n",
    "# statsmodels.tsa contains time series analysis statistics models\n",
    "from statsmodels.tsa.ar_model import AutoReg\n",
    "from random import random\n",
    "\n",
    "# fit model\n",
    "train_data = temperature.loc[:temperature.shape[0]-10,'Lowess(5)']\n",
    "test_data = temperature.loc[temperature.shape[0]-10:,'Lowess(5)']\n",
    "model = AutoReg(train_data, lags=1)\n",
    "model_fit = model.fit()\n",
    "# make prediction\n",
    "yhat = model_fit.predict(len(train_data), len(train_data) + len(test_data)-1)\n",
    "#print(yhat)"
   ]
  },
  {
   "cell_type": "code",
   "execution_count": 68,
   "id": "78e52a31",
   "metadata": {},
   "outputs": [
    {
     "data": {
      "image/png": "[encoded data removed]",
      "text/plain": [
       "<Figure size 432x288 with 1 Axes>"
      ]
     },
     "metadata": {
      "needs_background": "light"
     },
     "output_type": "display_data"
    }
   ],
   "source": [
    "import matplotlib.pyplot as plt\n",
    "plt.plot(range(10), yhat)\n",
    "plt.plot(range(10), test_data)\n",
    "plt.xlabel(\"test year\")\n",
    "plt.ylabel(\"temperature\")\n",
    "plt.legend([\"forecast\", \"actual\"], loc=\"lower right\")\n",
    "plt.show()"
   ]
  },
  {
   "cell_type": "code",
   "execution_count": null,
   "id": "dc7e2307",
   "metadata": {},
   "outputs": [],
   "source": [
    "# Implement Autoregression in excel : \n",
    "# https://www.bing.com/videos/search?q=perform+autoregression+model+in+excel&view=detail&mid=3AB21B7C9DD933C6513D3AB21B7C9DD933C6513D&FORM=VIRE"
   ]
  },
  {
   "cell_type": "code",
   "execution_count": 69,
   "id": "8c27c4b7",
   "metadata": {},
   "outputs": [],
   "source": [
    "# 2. Moving Average"
   ]
  },
  {
   "cell_type": "code",
   "execution_count": null,
   "id": "4b20c7a5",
   "metadata": {},
   "outputs": [],
   "source": []
  }
 ],
 "metadata": {
  "kernelspec": {
   "display_name": "Python 3 (ipykernel)",
   "language": "python",
   "name": "python3"
  },
  "language_info": {
   "codemirror_mode": {
    "name": "ipython",
    "version": 3
   },
   "file_extension": ".py",
   "mimetype": "text/x-python",
   "name": "python",
   "nbconvert_exporter": "python",
   "pygments_lexer": "ipython3",
   "version": "3.9.12"
  }
 },
 "nbformat": 4,
 "nbformat_minor": 5
}
